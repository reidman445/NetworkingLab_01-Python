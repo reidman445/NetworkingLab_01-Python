class Pet:

  def __init__(self,name,age):

    

     self.name = name
     self.age = age
     self.hasOwner = False
     self.trained = False


  def set_owner(self, owner):
    """
    This is a function that defines owner name of pet
    """

    self.owner = owner
    self.hasOwner = True

  def train(self):
    self.trained = True

  def __str__(self):
    """
    Return a string representation of the object created
    """
    message = f'Hi, I am {self.age}yrs and my name is {self.name}.'
    if self.trained == False:
        message += '\nI am not house trained'
    else:
        message += '\nI am house trained'
    if self.hasOwner == False:
        message += 'and no one owns me.'  
    else:
        message += f' and {self.Owner} is my owner'
    return f'{message}'
